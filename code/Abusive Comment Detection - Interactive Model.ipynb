{
 "cells": [
  {
   "cell_type": "markdown",
   "metadata": {
    "collapsed": false
   },
   "source": [
    "Instructions: \n",
    "\n",
    "1. Make sure that the ``__best_f1.weights`` that model.py's ``interactive_version()`` will load already exists, that model.py has ``PRESENT=True``, and that the values are correct in that file. \n",
    "\n",
    "2. Then run everything, and the demo is at the bottom\n",
    "\n",
    "3. The picture in the demo is the estimated probability of insult if the comment were to end right after that letter"
   ]
  },
  {
   "cell_type": "markdown",
   "metadata": {},
   "source": [
    "## Load the baseline model"
   ]
  },
  {
   "cell_type": "code",
   "execution_count": 71,
   "metadata": {
    "collapsed": false
   },
   "outputs": [
    {
     "name": "stdout",
     "output_type": "stream",
     "text": [
      "\n",
      "\n",
      "LOGISTIC MAXENT CLASSIFIER - UNI+BIGRAMS\n",
      "Percent insults: 0.469\n",
      "             precision    recall  f1-score   support\n",
      "\n",
      "          0      0.641     0.937     0.761      1019\n",
      "          1      0.851     0.406     0.550       901\n",
      "\n",
      "avg / total      0.740     0.688     0.662      1920\n",
      "\n",
      "Accuracy: 0.688\n",
      "AUC:      0.751662366207\n",
      "AUC:      0.751662366207\n"
     ]
    },
    {
     "data": {
      "text/plain": [
       "0.65561095009131665"
      ]
     },
     "execution_count": 71,
     "metadata": {},
     "output_type": "execute_result"
    }
   ],
   "source": [
    "# The baseline model\n",
    "import utils\n",
    "from baseline import bigramsPhi\n",
    "print(\"\\n\\nLOGISTIC MAXENT CLASSIFIER - UNI+BIGRAMS\")\n",
    "baseline_model_and_vectorizer = []\n",
    "utils.experiment(train_reader=utils.trainPlusDevReader, \\\n",
    "                 assess_reader=utils.testReader, \\\n",
    "                 phi=bigramsPhi, \\\n",
    "                 return_model=baseline_model_and_vectorizer)"
   ]
  },
  {
   "cell_type": "code",
   "execution_count": 72,
   "metadata": {
    "collapsed": false
   },
   "outputs": [
    {
     "data": {
      "text/plain": [
       "DictVectorizer(dtype=<type 'numpy.float64'>, separator='=', sort=True,\n",
       "        sparse=True)"
      ]
     },
     "execution_count": 72,
     "metadata": {},
     "output_type": "execute_result"
    }
   ],
   "source": [
    "baseline_model = baseline_model_and_vectorizer[0]\n",
    "baseline_vectorizer  = baseline_model_and_vectorizer[1]\n",
    "baseline_vectorizer"
   ]
  },
  {
   "cell_type": "markdown",
   "metadata": {},
   "source": [
    "## Load the final model"
   ]
  },
  {
   "cell_type": "code",
   "execution_count": 73,
   "metadata": {
    "collapsed": false
   },
   "outputs": [
    {
     "name": "stdout",
     "output_type": "stream",
     "text": [
      "418578.0 total chars with 97 uniques\n",
      "---------LOADED TRAIN------------\n",
      "Total comments in the dataset: 4863\n",
      "Max comment length: 4863\n",
      "Percent under threshold ( 200 ): 100.0\n",
      "Percent insults: 28.0896565906\n",
      "--------------------------------\n",
      "---------LOADED DEV------------\n",
      "Total comments in the dataset: 1920\n",
      "Max comment length: 1920\n",
      "Percent under threshold ( 200 ): 100.0\n",
      "Percent insults: 46.9270833333\n",
      "--------------------------------\n",
      "---------LOADED TEST------------\n",
      "Total comments in the dataset: 1920\n",
      "Max comment length: 1920\n",
      "Percent under threshold ( 200 ): 100.0\n",
      "Percent insults: 46.9270833333\n",
      "--------------------------------\n",
      "Loaded data\n",
      "Added placeholders: 300 hidden dims | 1 layers\n",
      "Added character embeddings:\n",
      "Setting up model\n",
      "Added model: lstm__h_300__lr_0.002__l2_3e-05__dp_0.7__cdp_0.7__bs_1__embed_300__bd_False\n",
      "Added prediction\n",
      "\tL2 regularization on RNN/MultiRNNCell/Cell0/LSTMCell/W_0:0\n",
      "Added loss op\n",
      "Added train op\n"
     ]
    }
   ],
   "source": [
    "import model\n",
    "from tensorflow.python.framework import ops\n",
    "ops.reset_default_graph()\n",
    "# from model import interactive_version\n",
    "model_predict, m, sess = model.interactive_version()\n"
   ]
  },
  {
   "cell_type": "code",
   "execution_count": 111,
   "metadata": {
    "collapsed": false
   },
   "outputs": [],
   "source": [
    "import numpy as np\n",
    "def predict(comment):\n",
    "    probs_over_time = []\n",
    "    pred = []\n",
    "    print comment\n",
    "    for i in range(len(comment)):\n",
    "        encoded = [m.vocab.encode(m.vocab.start)] + \\\n",
    "                    [m.vocab.encode(char) for char in comment[:i+1]] +  \\\n",
    "                    [m.vocab.encode(m.vocab.end)]\n",
    "        seq_length = len(encoded)\n",
    "        encoded = np.array(encoded)\n",
    "        encoded = np.pad(encoded, (0, utils.MAX_COMMENT_LENGTH - len(encoded)), mode='constant', constant_values=0)\n",
    "        encoded = np.reshape(encoded, (1, -1)).T\n",
    "        feed = {m.input_placeholder: encoded,\n",
    "                m.labels_placeholder: np.zeros([1,2]),\n",
    "                m.sequence_lengths: [seq_length],\n",
    "                m.dropout_placeholder: 1.0}\n",
    "        prob, pred, _ = sess.run([m.probs, m.prediction, m.probs_over_time], feed_dict=feed)\n",
    "        probs_over_time.append(prob)\n",
    "    return probs_over_time[-1], pred, probs_over_time"
   ]
  },
  {
   "cell_type": "code",
   "execution_count": 113,
   "metadata": {
    "collapsed": false
   },
   "outputs": [
    {
     "name": "stdout",
     "output_type": "stream",
     "text": [
      "1234\n",
      "    \n",
      "[[-0.43129283]\n",
      " [-0.51878196]\n",
      " [-0.48994163]\n",
      " [-0.46043453]]\n"
     ]
    }
   ],
   "source": [
    "a, b, c = predict(\"1234\")\n",
    "d, e, f = predict(\"    \")\n",
    "print np.array(c) - np.array(f)\n"
   ]
  },
  {
   "cell_type": "markdown",
   "metadata": {},
   "source": [
    "## Set up interactive features"
   ]
  },
  {
   "cell_type": "code",
   "execution_count": 76,
   "metadata": {
    "collapsed": false
   },
   "outputs": [],
   "source": [
    "from ipywidgets import widgets, interact\n",
    "from IPython.display import display, clear_output, Image\n",
    "\n",
    "# Create text widget for input\n",
    "input_text = widgets.Text()"
   ]
  },
  {
   "cell_type": "code",
   "execution_count": 77,
   "metadata": {
    "collapsed": false
   },
   "outputs": [
    {
     "data": {
      "text/plain": [
       "<matplotlib.figure.Figure at 0x156a3f5d0>"
      ]
     },
     "execution_count": 77,
     "metadata": {},
     "output_type": "execute_result"
    },
    {
     "data": {
      "text/plain": [
       "<matplotlib.figure.Figure at 0x156a3f5d0>"
      ]
     },
     "metadata": {},
     "output_type": "display_data"
    }
   ],
   "source": [
    "%matplotlib inline\n",
    "import numpy as np; np.random.seed(0)\n",
    "import seaborn as sns; sns.set()\n",
    "import matplotlib.pyplot as plt\n",
    "plt.figure(\"main\", figsize=(10,4))"
   ]
  },
  {
   "cell_type": "code",
   "execution_count": 78,
   "metadata": {
    "collapsed": false
   },
   "outputs": [],
   "source": [
    "def newDraw(data):\n",
    "    nothing = plt.clf()\n",
    "    nothing = plt.figure(\"main\", figsize=(20,4))\n",
    "    ax = plt.gca()\n",
    "    sns.heatmap(data, ax=ax, cmap=\"YlGnBu\",\n",
    "                        cbar_kws={\"orientation\": \"horizontal\"},\n",
    "                        linewidths=.5, yticklabels=False,\n",
    "                        vmin=0, vmax=1)\n",
    "\n",
    "    zed = [tick.label.set_fontsize(20) for tick in ax.xaxis.get_major_ticks()]\n",
    "    zed = [tick.label.set_color('darkred') for tick in ax.xaxis.get_major_ticks()]\n",
    "    ax.set_xticklabels(list(input_text.value))\n",
    "    ax.set_aspect(1)\n",
    "    ax.set_title(\"Probability of insult at each time step\")\n",
    "    plt.savefig(\"../analysis/test_comment.png\")\n",
    "    clear_output()\n"
   ]
  },
  {
   "cell_type": "code",
   "execution_count": 79,
   "metadata": {
    "collapsed": false
   },
   "outputs": [],
   "source": [
    "img = widgets.Image()\n",
    "# with open(\"../analysis/test_comment.png\", \"rb\") as imageFile:\n",
    "#   f = imageFile.read()\n",
    "    \n",
    "# img.value = bytes(f)\n",
    "\n",
    "def cleanComment(comment):\n",
    "  ''' Returns a cleaned version of the comment '''\n",
    "  comment = comment.replace('\\\\\\\\n', ' ')\n",
    "  comment = comment.replace('\\\\xc2', ' ')\n",
    "  comment = comment.replace('\\\\xa0', ' ')\n",
    "  comment = comment.replace('\\\\n', ' ')\n",
    "  comment = \" \".join(utils.tkzr.tokenize(comment))\n",
    "  comment = utils.t_prsr.parse(comment).html\n",
    "  return comment\n",
    "\n",
    "def baseline_comment_reader():\n",
    "    yield cleanComment(input_text.value), 0\n",
    "\n",
    "    \n",
    "    \n",
    "# Create text widget for output\n",
    "output = widgets.HTML()\n",
    "\n",
    "# Define function to bind value of the input to the output variable \n",
    "def bind_input_to_output(sender):\n",
    "    assess = utils.buildDataset(\n",
    "        baseline_comment_reader, \n",
    "        bigramsPhi, \n",
    "        lambda x: x, \n",
    "        vectorizer=baseline_vectorizer)\n",
    "    result = baseline_model.predict_proba(assess['X'])[0,1]\n",
    "    prob, pred, probs_over_time = predict(input_text.value)\n",
    "    \n",
    "    \n",
    "    def getColor(val):\n",
    "        return 'style=\"color:red\"' if val > 0.5 else 'style=\"color:green\"'\n",
    "    \n",
    "    \n",
    "    results_str = \"<h1> Probability of insult </h1>\"\n",
    "    baseline_str = '<h1 class=\"baseline\"' + getColor(result) + '>' + \"Bigrams: \\t\\t<br>\" + str(result) + '</h1>'\n",
    "    char_lstm_str = '<h1 class=\"char_lstm\"' + getColor(prob[0]) + '>' + \"Char LSTM: \\t<br>\" + str(prob[0]) + '</h1>'\n",
    "    spacing = \"<br><br>\"\n",
    "    output.value = results_str + baseline_str + char_lstm_str + spacing\n",
    "    newDraw(np.reshape(probs_over_time[:len(input_text.value)], (1, -1)))\n",
    "#     with open(\"../analysis/test_comment.png\", \"rb\") as imageFile:\n",
    "#       f = imageFile.read()\n",
    "#     img.value = bytes(f)\n",
    "\n",
    "# Tell the text input widget to call bind_input_to_output() on submit\n",
    "input_text.on_submit(bind_input_to_output)"
   ]
  },
  {
   "cell_type": "code",
   "execution_count": 80,
   "metadata": {
    "collapsed": false
   },
   "outputs": [
    {
     "data": {
      "text/html": [
       "<style> h2{text-align:center;} h1{text-align:center;} h1.baseline{width: 50%;float: left;font-family:'Courier New';}h1.char_lstm{width: 50%;float: right;font-family:'Courier New';} </style>"
      ],
      "text/plain": [
       "<IPython.core.display.HTML object>"
      ]
     },
     "execution_count": 80,
     "metadata": {},
     "output_type": "execute_result"
    }
   ],
   "source": [
    "from IPython.core.display import HTML\n",
    "HTML(\"<style> h2{text-align:center;} h1{text-align:center;} h1.baseline{width: 50%;float: left;font-family:'Courier New';}\"\n",
    "    +\"h1.char_lstm{width: 50%;float: right;font-family:'Courier New';} </style>\")"
   ]
  },
  {
   "cell_type": "markdown",
   "metadata": {},
   "source": [
    "\n",
    "\n",
    "\n",
    "\n",
    "\n",
    "\n",
    "\n",
    "\n",
    "\n",
    "\n",
    "\n",
    "\n",
    "\n",
    "\n",
    "\n",
    "\n",
    "\n",
    "\n",
    "\n",
    "\n",
    "\n"
   ]
  },
  {
   "cell_type": "markdown",
   "metadata": {},
   "source": [
    "# Abusive Comment Detection\n",
    "## Sasha Sax"
   ]
  },
  {
   "cell_type": "code",
   "execution_count": 81,
   "metadata": {
    "collapsed": false
   },
   "outputs": [
    {
     "data": {
      "text/plain": [
       "<matplotlib.figure.Figure at 0x1b1022710>"
      ]
     },
     "metadata": {},
     "output_type": "display_data"
    },
    {
     "data": {
      "image/png": "[encoded data removed]",
      "text/plain": [
       "<matplotlib.figure.Figure at 0x1b1187c10>"
      ]
     },
     "metadata": {},
     "output_type": "display_data"
    }
   ],
   "source": [
    "display(input_text)  # Type in a comment to see it evaluated:\n",
    "display(output)"
   ]
  },
  {
   "cell_type": "markdown",
   "metadata": {},
   "source": [
    "#    \n"
   ]
  },
  {
   "cell_type": "markdown",
   "metadata": {},
   "source": [
    "#      "
   ]
  },
  {
   "cell_type": "markdown",
   "metadata": {
    "collapsed": true
   },
   "source": [
    "\n",
    "\n",
    "\n",
    "\n",
    "\n",
    "\n",
    "\n",
    "\n",
    "\n",
    "\n",
    "\n",
    "\n",
    "\n",
    "\n"
   ]
  },
  {
   "cell_type": "markdown",
   "metadata": {
    "collapsed": true
   },
   "source": [
    "#     "
   ]
  },
  {
   "cell_type": "markdown",
   "metadata": {
    "collapsed": true
   },
   "source": [
    "#        "
   ]
  },
  {
   "cell_type": "markdown",
   "metadata": {},
   "source": [
    "#      "
   ]
  },
  {
   "cell_type": "code",
   "execution_count": null,
   "metadata": {
    "collapsed": true
   },
   "outputs": [],
   "source": []
  },
  {
   "cell_type": "code",
   "execution_count": null,
   "metadata": {
    "collapsed": true
   },
   "outputs": [],
   "source": []
  }
 ],
 "metadata": {
  "kernelspec": {
   "display_name": "Python 2",
   "language": "python",
   "name": "python2"
  },
  "language_info": {
   "codemirror_mode": {
    "name": "ipython",
    "version": 2
   },
   "file_extension": ".py",
   "mimetype": "text/x-python",
   "name": "python",
   "nbconvert_exporter": "python",
   "pygments_lexer": "ipython2",
   "version": "2.7.11"
  },
  "widgets": {
   "state": {
    "0266eef1c45d41938853a177fa6f3118": {
     "views": []
    },
    "06b8998369fd4f5891d9fadfded1291c": {
     "views": []
    },
    "0739752bc5a84f04b5267ec18c26b471": {
     "views": []
    },
    "0832a47c7a534945976d1b87c1966b97": {
     "views": []
    },
    "14c5f3826e8e42929d428a85727bde9f": {
     "views": []
    },
    "174ab16b80d24007a0ab632da41718f3": {
     "views": []
    },
    "1be43f04ef504d33926bd2b84496c866": {
     "views": []
    },
    "22e887f8e4de471aa54bd65bf5cb0031": {
     "views": []
    },
    "23e4dfaba5a44d548782de00a374dc95": {
     "views": []
    },
    "294097ac648f437189504e818a9296c3": {
     "views": []
    },
    "3cc2b6f96e3a437f8836908269dc127d": {
     "views": []
    },
    "40e3eb7f8f9a4f93ab360c8df932ef23": {
     "views": []
    },
    "415c2c7445b84b249b3f3b3a59137f12": {
     "views": [
      {
       "cell_index": 17
      }
     ]
    },
    "4597cb1b611f4979a7afb0790ad94580": {
     "views": []
    },
    "4b82ffca753e484da845339b77b1bdbc": {
     "views": []
    },
    "517642d2b2f044e4bcbb40446019bebd": {
     "views": []
    },
    "51c510205a3440a18250d9757a42db85": {
     "views": []
    },
    "5cd20c26391b4a798d8bcdc343fec340": {
     "views": []
    },
    "62c44c1941734010a1e698bcd9115f39": {
     "views": []
    },
    "652cabdc5a31403cb62bf89bae2efdaf": {
     "views": []
    },
    "6da4ad5408654a8585b28a173d9e2bbb": {
     "views": [
      {
       "cell_index": 17
      }
     ]
    },
    "6f52c1bd741e4871bb31dec988ba9623": {
     "views": []
    },
    "79c987c9f202481bba011571d51af5e3": {
     "views": []
    },
    "7da036008cc845278692d159710e0bb8": {
     "views": []
    },
    "7ff0ab4456964769bc15935be0eaf87f": {
     "views": []
    },
    "804be1d184c6467690fa8d7fd53dac13": {
     "views": []
    },
    "80cccffcc27b4b5ba196f6c1211e9d1c": {
     "views": []
    },
    "83dfb8aea52e4ccaa3b62eb061f88e11": {
     "views": []
    },
    "895df7f6c47a48e2a54763bd9e94762d": {
     "views": []
    },
    "8c409db05a1341089a9596e6db846f88": {
     "views": []
    },
    "8deceb1596ec4f6e9b176e9742a03bb0": {
     "views": [
      {
       "cell_index": 17
      }
     ]
    },
    "94ad37121c5d4adb90943b74fc9c1a06": {
     "views": []
    },
    "957932c5b6974cbfb23e96769d89e80d": {
     "views": []
    },
    "96f8c338b6ae4cb7970eb5e84ea8ac4a": {
     "views": []
    },
    "97d66e61151d485abe535072911211f8": {
     "views": []
    },
    "98a5cf919c524dba9ed5efe6231a86e3": {
     "views": []
    },
    "9a3b81645822439f9a624d57d63cca3e": {
     "views": []
    },
    "9b4a241b1e3f4703971023226e0e1fd6": {
     "views": []
    },
    "9b7cdabb96ad4abc8240925abcbf14f7": {
     "views": []
    },
    "9c90bc595f9d4676abdf560cd75af9af": {
     "views": []
    },
    "9d43ef0de9ad4f00b0399941f56ffad8": {
     "views": []
    },
    "a02e7cb017c34b389521d11de46b1342": {
     "views": []
    },
    "a5e12878ed3e4b4eb0207cff753c0d3d": {
     "views": []
    },
    "ac39e5b9259b4124b17968df3c956986": {
     "views": []
    },
    "b2900e5b137a4632b6dc543ca873feea": {
     "views": []
    },
    "b61161e2bcff4ba283a1ad67f01bdb52": {
     "views": []
    },
    "c0cd5816d3854d9b9bb1657fb1592874": {
     "views": []
    },
    "c3157bc76c25468cacbc6fb3f3c7d463": {
     "views": []
    },
    "c56bdb6f914d4952b737f14d91302948": {
     "views": []
    },
    "c64119aedb06426ca607ba8c5309996f": {
     "views": []
    },
    "c71465162f0a4de9bfe9f38987c8a504": {
     "views": []
    },
    "c83cfa4f795b437c95c7c71ed83ef377": {
     "views": []
    },
    "c8bb8f120c684d71aca7dcda710f85d4": {
     "views": []
    },
    "c9efe9f7ff3649bdb25e982fc6a389a2": {
     "views": []
    },
    "d1bd9b1f851a4deea7cfffe769585f94": {
     "views": []
    },
    "d1fe9d4226c84e859329c3807faffc99": {
     "views": []
    },
    "d2c22b84094f4a99b0041a02f3a24e77": {
     "views": [
      {
       "cell_index": 17
      }
     ]
    },
    "d6dbb9eb5d25430d92ac51e0ef793978": {
     "views": []
    },
    "d7dc14b040f946f8bfd5de6d789fc404": {
     "views": []
    },
    "e41f7024a2eb40e58a676c4ccf28894d": {
     "views": []
    },
    "e43bed2914a149558d2be7b1023273dd": {
     "views": []
    },
    "e6bf812760cd4490a5ecab66cc377349": {
     "views": []
    },
    "ed8ae7178c754e6a98ee1dc77f5194ee": {
     "views": []
    },
    "edcd50fea0744446b6c794a9a1e13577": {
     "views": []
    },
    "f128c9e7ded247e58d8d80a4c61ec311": {
     "views": []
    },
    "f8e694c5dd61407f82027bb4e9f0f92b": {
     "views": []
    }
   },
   "version": "1.1.2"
  }
 },
 "nbformat": 4,
 "nbformat_minor": 0
}
